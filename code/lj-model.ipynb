{
  "cells": [
    {
      "cell_type": "markdown",
      "source": [
        "## Solid Argon With LJ Potential"
      ],
      "metadata": {
        "collapsed": false,
        "outputHidden": false,
        "inputHidden": false
      }
    },
    {
      "cell_type": "code",
      "source": [
        "import numpy as np\n",
        "import matplotlib.pyplot as plt"
      ],
      "outputs": [],
      "execution_count": 1,
      "metadata": {}
    },
    {
      "cell_type": "code",
      "source": [
        "class sysyem:\n",
        "   def __init__(self):\n",
        "    self.a=1.\n",
        "    self.n=5.\n",
        "    self.A1=1.\n",
        "    self.B1=1.\n",
        "    self.epsilon=1.0\n",
        "    self.sigma=1.0\n",
        "    \n",
        "   def distance(self, x, y, z):\n",
        "        return (x**2 + y**2 + z**2)**0.5\n",
        "    \n",
        "   def potential(self, d, vtype=\"lj\"):\n",
        "    vval=0.\n",
        "    if vtype==\"lj\": vval= 4.*self.epsilon*(pow(self.sigma/d, 12) - pow(self.sigma/d, 6))\n",
        "    if vtype==\"elj\": vval= 4.*self.epsilon*(pow(self.sigma/d, 14)\n",
        "                                            - pow(self.sigma/d, 13)\n",
        "                                            + pow(self.sigma/d, 12)\n",
        "                                            - pow(self.sigma/d, 11)\n",
        "                                            + pow(self.sigma/d, 10)\n",
        "                                            - pow(self.sigma/d, 9)\n",
        "                                            + pow(self.sigma/d, 8)\n",
        "                                            - pow(self.sigma/d, 6))\n",
        "    if vtype==\"exp6\": vval= self.A1*np.exp(-1*self.B1*d) - pow(self.sigma/d, 6)\n",
        "    return vval\n",
        "  \n",
        "    \n",
        "   def latticesc(self):\n",
        "        self.energy = 0.\n",
        "        for i in np.linspace(-self.n, self.n, 2.*self.n+1):\n",
        "            for j in np.linspace(-self.n, self.n, 2.*self.n+1):\n",
        "                for k in np.linspace(-self.n, self.n, 2.*self.n+1):\n",
        "                    if (i, j, k) != (0., 0., 0.): self.energy += self.sccell(self.a*i, self.a*j, self.a*k)\n",
        "   \n",
        "   def latticefcc(self):\n",
        "        self.energy = 0.\n",
        "        for i in np.linspace(-self.n, self.n, 2.*self.n+1):\n",
        "            for j in np.linspace(-self.n, self.n, 2.*self.n+1):\n",
        "                for k in np.linspace(-self.n, self.n, 2.*self.n+1):\n",
        "                    if (i,j,k) != (0,0,0): self.energy += self.fcccell(self.a*i, self.a*j, self.a*k)\n",
        "                        \n",
        "   def latticehcp(self):\n",
        "        self.energy = 0.\n",
        "        for i in np.linspace(-self.n, self.n, 2.*self.n+1.):\n",
        "            for j in np.linspace(-self.n, self.n, 2.*self.n+1.):\n",
        "                for k in np.linspace(-self.n/2., self.n/2., self.n+1.):\n",
        "                    if (i, j, k) != (0, 0, 0): self.energy += self.hcpcell(self.a*i, self.a*j, self.a*k)       \n",
        "                        \n",
        "   def fcccell(self, x, y, z):\n",
        "        a = 2.**0.5\n",
        "        return self.potential(self.distance(a*x+(y+z)/a , y/a , z/a ), \"lj\")\n",
        "    \n",
        "   def sccell(self, x, y, z):\n",
        "        return self.potential(self.distance(x, y, z),\"lj\")\n",
        "    \n",
        "   def hcpcell(self, x, y, z):\n",
        "        vval = self.potential(self.distance(x + y/2., y/2.*(3.**0.5), 24.**0.5*z/3.), \"lj\") \n",
        "        + self.potential(self.distance(x+(y+self.a)/2., (y+self.a/3.)/2.*(3.**0.5), 24.**0.5*(z+self.a/2.)/3.), \"lj\")\n",
        "        return vval"
      ],
      "outputs": [],
      "execution_count": 166,
      "metadata": {
        "collapsed": false,
        "outputHidden": false,
        "inputHidden": false
      }
    },
    {
      "cell_type": "code",
      "source": [
        "mysys = sysyem()\n",
        "esc = []; efcc = []; ehcp = []\n",
        "x = np.linspace(.95, 2., 50)\n",
        "for d in x:\n",
        "    mysys.a = d\n",
        "    ef = 0.\n",
        "    eh = 0.\n",
        "    mysys.latticesc()\n",
        "    esc.append(mysys.energy)\n",
        "    mysys.latticefcc()\n",
        "    efcc.append(mysys.energy)\n",
        "    mysys.latticehcp()\n",
        "    ehcp.append(mysys.energy)\n",
        "    \n",
        "# plt.plot(x, efcc, label='FCC');\n",
        "# plt.plot(x, ehcp, label='HCP');\n",
        "# plt.grid();\n",
        "# plt.legend();\n",
        "# plt.xlabel('Lattice spacing [$\\sigma$]');\n",
        "# plt.ylabel('Energy [$\\epsilon$]');\n",
        "# plt.show();\n",
        "print(\"sc min = \", min(esc), \":: fcc min = \", min(efcc), \":: hcp min = \", min(ehcp))"
      ],
      "outputs": [
        {
          "output_type": "stream",
          "name": "stderr",
          "text": [
            "/Users/lazy/anaconda3/lib/python3.6/site-packages/ipykernel_launcher.py:30: DeprecationWarning: object of type <class 'float'> cannot be safely interpreted as an integer.\n",
            "/Users/lazy/anaconda3/lib/python3.6/site-packages/ipykernel_launcher.py:31: DeprecationWarning: object of type <class 'float'> cannot be safely interpreted as an integer.\n",
            "/Users/lazy/anaconda3/lib/python3.6/site-packages/ipykernel_launcher.py:32: DeprecationWarning: object of type <class 'float'> cannot be safely interpreted as an integer.\n",
            "/Users/lazy/anaconda3/lib/python3.6/site-packages/ipykernel_launcher.py:37: DeprecationWarning: object of type <class 'float'> cannot be safely interpreted as an integer.\n",
            "/Users/lazy/anaconda3/lib/python3.6/site-packages/ipykernel_launcher.py:38: DeprecationWarning: object of type <class 'float'> cannot be safely interpreted as an integer.\n",
            "/Users/lazy/anaconda3/lib/python3.6/site-packages/ipykernel_launcher.py:39: DeprecationWarning: object of type <class 'float'> cannot be safely interpreted as an integer.\n",
            "/Users/lazy/anaconda3/lib/python3.6/site-packages/ipykernel_launcher.py:44: DeprecationWarning: object of type <class 'float'> cannot be safely interpreted as an integer.\n",
            "/Users/lazy/anaconda3/lib/python3.6/site-packages/ipykernel_launcher.py:45: DeprecationWarning: object of type <class 'float'> cannot be safely interpreted as an integer.\n",
            "/Users/lazy/anaconda3/lib/python3.6/site-packages/ipykernel_launcher.py:46: DeprecationWarning: object of type <class 'float'> cannot be safely interpreted as an integer.\n"
          ]
        },
        {
          "output_type": "stream",
          "name": "stdout",
          "text": [
            "sc min =  -11.3014912709 :: fcc min =  -17.0648888499 :: hcp min =  -4.20132315143\n"
          ]
        }
      ],
      "execution_count": 167,
      "metadata": {
        "collapsed": false,
        "outputHidden": false,
        "inputHidden": false
      }
    },
    {
      "cell_type": "code",
      "source": [],
      "outputs": [],
      "execution_count": null,
      "metadata": {
        "collapsed": false,
        "outputHidden": false,
        "inputHidden": false
      }
    }
  ],
  "metadata": {
    "kernelspec": {
      "name": "python3",
      "language": "python",
      "display_name": "Python 3"
    },
    "kernel_info": {
      "name": "python3"
    },
    "language_info": {
      "name": "python",
      "version": "3.6.2",
      "mimetype": "text/x-python",
      "codemirror_mode": {
        "name": "ipython",
        "version": 3
      },
      "pygments_lexer": "ipython3",
      "nbconvert_exporter": "python",
      "file_extension": ".py"
    },
    "nteract": {
      "version": "0.5.5"
    }
  },
  "nbformat": 4,
  "nbformat_minor": 4
}